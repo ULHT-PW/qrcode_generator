{
 "cells": [
  {
   "cell_type": "code",
   "execution_count": 1,
   "metadata": {},
   "outputs": [],
   "source": [
    "import qrcode\n",
    "import qrcode.image.svg\n",
    "\n",
    "# define a method to choose which factory metho to use\n",
    "# possible values 'basic' 'fragment' 'path'\n",
    "\n",
    "method = \"basic\"\n",
    "\n",
    "data = \"https://informatica.ulusofona.pt/projetos-de-unidades-curriculares/\"\n",
    "\n",
    "if method == 'basic':\n",
    "    # Simple factory, just a set of rects.\n",
    "    factory = qrcode.image.svg.SvgImage\n",
    "elif method == 'fragment':\n",
    "    # Fragment factory (also just a set of rects)\n",
    "    factory = qrcode.image.svg.SvgFragmentImage\n",
    "elif method == 'path':\n",
    "    # Combined path factory, fixes white space that may occur when zooming\n",
    "    factory = qrcode.image.svg.SvgPathImage\n",
    "\n",
    "# Set data to qrcode\n",
    "img = qrcode.make(data, image_factory = factory, border=0)\n",
    "\n",
    "# Save svg file somewhere\n",
    "img.save(\"qrcode.svg\")"
   ]
  }
 ],
 "metadata": {
  "kernelspec": {
   "display_name": "Python 3",
   "language": "python",
   "name": "python3"
  },
  "language_info": {
   "codemirror_mode": {
    "name": "ipython",
    "version": 3
   },
   "file_extension": ".py",
   "mimetype": "text/x-python",
   "name": "python",
   "nbconvert_exporter": "python",
   "pygments_lexer": "ipython3",
   "version": "3.11.4"
  },
  "orig_nbformat": 4
 },
 "nbformat": 4,
 "nbformat_minor": 2
}
